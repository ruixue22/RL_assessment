{
 "cells": [
  {
   "cell_type": "code",
   "execution_count": 1,
   "id": "9a1246ff",
   "metadata": {},
   "outputs": [
    {
     "name": "stdout",
     "output_type": "stream",
     "text": [
      "The current temperature (local time: 2022-12-04 22:03:01) at PMC LA HQ is:\n"
     ]
    },
    {
     "data": {
      "text/html": [
       "<div>\n",
       "<style scoped>\n",
       "    .dataframe tbody tr th:only-of-type {\n",
       "        vertical-align: middle;\n",
       "    }\n",
       "\n",
       "    .dataframe tbody tr th {\n",
       "        vertical-align: top;\n",
       "    }\n",
       "\n",
       "    .dataframe thead th {\n",
       "        text-align: right;\n",
       "    }\n",
       "</style>\n",
       "<table border=\"1\" class=\"dataframe\">\n",
       "  <thead>\n",
       "    <tr style=\"text-align: right;\">\n",
       "      <th></th>\n",
       "      <th>0</th>\n",
       "      <th>1</th>\n",
       "    </tr>\n",
       "  </thead>\n",
       "  <tbody>\n",
       "    <tr>\n",
       "      <th>0</th>\n",
       "      <td>temp</td>\n",
       "      <td>287.77</td>\n",
       "    </tr>\n",
       "    <tr>\n",
       "      <th>1</th>\n",
       "      <td>feels_like</td>\n",
       "      <td>287.72</td>\n",
       "    </tr>\n",
       "    <tr>\n",
       "      <th>2</th>\n",
       "      <td>temp_min</td>\n",
       "      <td>285.84</td>\n",
       "    </tr>\n",
       "    <tr>\n",
       "      <th>3</th>\n",
       "      <td>temp_max</td>\n",
       "      <td>289.21</td>\n",
       "    </tr>\n",
       "  </tbody>\n",
       "</table>\n",
       "</div>"
      ],
      "text/plain": [
       "            0       1\n",
       "0        temp  287.77\n",
       "1  feels_like  287.72\n",
       "2    temp_min  285.84\n",
       "3    temp_max  289.21"
      ]
     },
     "metadata": {},
     "output_type": "display_data"
    }
   ],
   "source": [
    "# import required packages\n",
    "import requests\n",
    "import json\n",
    "import pandas as pd\n",
    "from datetime import datetime, timedelta\n",
    "\n",
    "# setups:\n",
    "\n",
    "'''\n",
    "sample API request:\n",
    "https://history.openweathermap.org/data/3.0/history/timemachine?lat=35.6&lon=17.1&dt=1623561060&appid=API key\n",
    "\n",
    "https://openweather.co.uk/blog/post/access-historical-weather-specific-moment-time-introducing-history-api-timestamp\n",
    "'''\n",
    "\n",
    "# set apikey\n",
    "apikey='a082c71bdbea1e20cf5d962cdf5bc1ff' #personal api token\n",
    "\n",
    "# define location: PMC LA office\n",
    "lat = 34.047470\n",
    "lon = -118.445950\n",
    "\n",
    "# complete api call\n",
    "url = f'https://api.openweathermap.org/data/2.5/weather?lat={lat}&lon={lon}&appid={apikey}'\n",
    "weather_raw = requests.get(url).json()\n",
    "\n",
    "# pull data:\n",
    "\n",
    "# get current temperature\n",
    "main = weather_raw['main']\n",
    "main_df = pd.DataFrame(main.items()) #turn temp output to dataframe for clearer presentaion\n",
    "temp_df = main_df.iloc[:-2, :]\n",
    "    \n",
    "\n",
    "# get current time for future references - can choose from pt/utc timezone\n",
    "raw_time = weather_raw['dt']\n",
    "\n",
    "current_pt = datetime.fromtimestamp(raw_time).strftime('%Y-%m-%d %H:%M:%S') #convert Unix Timestamp to PT date/time \n",
    "current_UTC = datetime.utcfromtimestamp(raw_time).strftime('%Y-%m-%d %H:%M:%S') #convert Unix Timestamp to UTC date/time\n",
    "\n",
    "# save final results as csv:\n",
    "temp_df.to_csv(f'PMC_cur_temp@{current_pt}.csv', index = False)\n",
    "# present final results:\n",
    "print(f'The current temperature (local time: {current_pt}) at PMC LA HQ is:')\n",
    "# display(temp_df)\n",
    "report_df = pd.read_csv(f'PMC_cur_temp@{current_pt}.csv')\n",
    "display(report_df)"
   ]
  },
  {
   "cell_type": "code",
   "execution_count": null,
   "id": "3658ae1e",
   "metadata": {
    "scrolled": true
   },
   "outputs": [],
   "source": []
  }
 ],
 "metadata": {
  "kernelspec": {
   "display_name": "Python 3 (ipykernel)",
   "language": "python",
   "name": "python3"
  },
  "language_info": {
   "codemirror_mode": {
    "name": "ipython",
    "version": 3
   },
   "file_extension": ".py",
   "mimetype": "text/x-python",
   "name": "python",
   "nbconvert_exporter": "python",
   "pygments_lexer": "ipython3",
   "version": "3.7.6"
  }
 },
 "nbformat": 4,
 "nbformat_minor": 5
}
